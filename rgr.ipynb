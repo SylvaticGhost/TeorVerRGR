{
 "cells": [
  {
   "metadata": {
    "ExecuteTime": {
     "end_time": "2024-12-13T17:36:58.422294Z",
     "start_time": "2024-12-13T17:36:58.395489Z"
    }
   },
   "cell_type": "code",
   "source": [
    "import numpy as np\n",
    "import math\n",
    "import scipy as sc\n",
    "import sympy as sp\n",
    "from sympy import And, Or, Not\n",
    "from helpers import *\n",
    "import matplotlib.pyplot as plt"
   ],
   "id": "f26ca0e4b2168971",
   "outputs": [],
   "execution_count": 94
  },
  {
   "metadata": {},
   "cell_type": "markdown",
   "source": [
    "# Завдання 1\n",
    "У коробці 5 зелених і 7 жовтих куль. Знайти ймовірність витягти жовту кулю"
   ],
   "id": "49e9f3c43d6a257e"
  },
  {
   "cell_type": "code",
   "id": "initial_id",
   "metadata": {
    "collapsed": true,
    "ExecuteTime": {
     "end_time": "2024-12-13T17:36:58.443486Z",
     "start_time": "2024-12-13T17:36:58.439373Z"
    }
   },
   "source": [
    "g = 5\n",
    "y = 7\n",
    "\n",
    "P_y = y / (g + y)\n",
    "print(f'ймовірність витягти жовту кулю = {P_y}')"
   ],
   "outputs": [
    {
     "name": "stdout",
     "output_type": "stream",
     "text": [
      "ймовірність витягти жовту кулю = 0.5833333333333334\n"
     ]
    }
   ],
   "execution_count": 95
  },
  {
   "metadata": {},
   "cell_type": "markdown",
   "source": [
    "# Завдання 2\n",
    "Шість пасажирів придбали квитки на літак в одному шестимісному ряді\n",
    "крісел і випадковим чином зайняли ці місця. Знайдіть ймовірності того, що\n",
    "тільки 2 пасажири сіли на свої місця"
   ],
   "id": "32684be002cdcc06"
  },
  {
   "metadata": {
    "ExecuteTime": {
     "end_time": "2024-12-13T17:36:58.485564Z",
     "start_time": "2024-12-13T17:36:58.475720Z"
    }
   },
   "cell_type": "code",
   "source": [
    "places = 6\n",
    "passengers = 6\n",
    "right = 2\n",
    "c_6_2 = sc.special.comb(places, right)\n",
    "D_4 = derangements(places - right)\n",
    "P = (c_6_2 * D_4) / sc.special.factorial(places)\n",
    "print(f'ймовірність того, що тільки 2 пасажири сіли на свої місця = {P}')"
   ],
   "id": "6659abba5992fffa",
   "outputs": [
    {
     "name": "stdout",
     "output_type": "stream",
     "text": [
      "ймовірність того, що тільки 2 пасажири сіли на свої місця = 0.1875\n"
     ]
    }
   ],
   "execution_count": 96
  },
  {
   "metadata": {},
   "cell_type": "markdown",
   "source": [
    "# Завдання 3\n",
    "Два дійсні числа 𝑝 і 𝑞 випадково беруться з проміжку [– 2; 2]. Знайдіть\n",
    "ймовірність того, що рівняння 𝑥\n",
    "2 + 𝑝𝑥 + 𝑞 = 0 не має дійсних коренів."
   ],
   "id": "971fd06213e9fab"
  },
  {
   "metadata": {
    "ExecuteTime": {
     "end_time": "2024-12-13T17:36:58.518906Z",
     "start_time": "2024-12-13T17:36:58.514761Z"
    }
   },
   "cell_type": "code",
   "source": [
    "rng = (-2, 2)\n",
    "S = 4 * 4\n",
    "p, q = sp.symbols('p q')\n",
    "#p**2 - 4q < 0\n",
    "#q > p**2 / 4"
   ],
   "id": "e51537b179b32624",
   "outputs": [],
   "execution_count": 97
  },
  {
   "metadata": {
    "ExecuteTime": {
     "end_time": "2024-12-13T17:36:58.633049Z",
     "start_time": "2024-12-13T17:36:58.545105Z"
    }
   },
   "cell_type": "code",
   "source": [
    "p_vals = np.linspace(-2, 2, 400)\n",
    "q_vals = p_vals**2 / 4\n",
    "\n",
    "# Plot the function\n",
    "plt.figure(figsize=(4, 3))\n",
    "plt.plot(p_vals, q_vals, label=r'$q = \\frac{p^2}{4}$')\n",
    "plt.xlabel('p')\n",
    "plt.ylabel('q')\n",
    "plt.title('Graph of q = p^2 / 4')\n",
    "plt.legend()\n",
    "plt.grid(True)\n",
    "plt.show()"
   ],
   "id": "aa7e44d97c7d4bd0",
   "outputs": [
    {
     "data": {
      "text/plain": [
       "<Figure size 400x300 with 1 Axes>"
      ],
      "image/png": "[encoded data removed]"
     },
     "metadata": {},
     "output_type": "display_data"
    }
   ],
   "execution_count": 98
  },
  {
   "metadata": {
    "ExecuteTime": {
     "end_time": "2024-12-13T17:36:58.663791Z",
     "start_time": "2024-12-13T17:36:58.648249Z"
    }
   },
   "cell_type": "code",
   "source": [
    "S_under = sp.integrate( p**2 / 4, (p, rng[0], rng[1]))\n",
    "P = S_under / S\n",
    "print(f'ймовірність того, що рівняння 𝑥^2 + 𝑝𝑥 + 𝑞 = 0 не має дійсних коренів = {P}')"
   ],
   "id": "dcc0f2fb11098f6d",
   "outputs": [
    {
     "name": "stdout",
     "output_type": "stream",
     "text": [
      "ймовірність того, що рівняння 𝑥^2 + 𝑝𝑥 + 𝑞 = 0 не має дійсних коренів = 1/12\n"
     ]
    }
   ],
   "execution_count": 99
  },
  {
   "metadata": {},
   "cell_type": "markdown",
   "source": [
    "# Завдання 4\n",
    "Перший контролер оцінює якість трьох виробів, другий — двох. Події\n",
    "𝐴𝑖 ={перший контролер прийняв 𝑖-й виріб, 𝑖 = 1; 2; 3}, 𝐵𝑗 ={другий контролер\n",
    "прийняв 𝑗-й виріб, 𝑗 = 1; 2}, 𝐶 ={перший контролер прийняв тільки 2 вироби,\n",
    "другий — тільки 1}. Виразіть подію 𝐶 через 𝐴𝑖,𝐵𝑗.\n"
   ],
   "id": "85d50cdb106d93e8"
  },
  {
   "metadata": {
    "ExecuteTime": {
     "end_time": "2024-12-13T17:36:58.687210Z",
     "start_time": "2024-12-13T17:36:58.682807Z"
    }
   },
   "cell_type": "code",
   "source": [
    "A1, A2, A3, B1, B2 = sp.symbols('A1 A2 A3 B1 B2') \n",
    "\n",
    "C = ((A1 & A2 & A3 & B1 & ~B2) | \n",
    "     (A1 & A2 & A3 & ~B1 & B2) | \n",
    "     (A1 & A2 & ~A3 & B1 & B2) | \n",
    "     (~A1 & A2 & A3 & B1 & B2) | \n",
    "     (A1 & ~A2 & A3 & B1 & B2))\n"
   ],
   "id": "f50c263418a4332",
   "outputs": [],
   "execution_count": 100
  },
  {
   "metadata": {},
   "cell_type": "markdown",
   "source": [
    "# Завдання 5\n",
    "Партія виробів, яка містить 10 виробів першого сорту, 6 — другого сорту і 4\n",
    "браковані вироби, випадковим способом розбивається на 3 частини у\n",
    "співвідношенні 5:3:2. Знайдіть ймовірність того, що в першу частину потраплять\n",
    "тільки вироби першого сорту, у другу — тільки другого сорту, а в третю — тільки\n",
    "браковані. "
   ],
   "id": "4500d8ff737b7170"
  },
  {
   "metadata": {
    "ExecuteTime": {
     "end_time": "2024-12-13T17:36:58.717003Z",
     "start_time": "2024-12-13T17:36:58.713048Z"
    }
   },
   "cell_type": "code",
   "source": [
    "category_1, category_2, category_b = 10, 6, 4\n",
    "total = category_1 + category_2 + category_b\n",
    "p1, p2, p3 = 5, 3, 2\n",
    "total_ways = sc.special.comb(total, p1) * sc.special.comb(total - p1, p2) * sc.special.comb(total - p1 - p2, p3)\n",
    "favorable_ways = sc.special.comb(category_1, p1) * sc.special.comb(category_2, p2) * sc.special.comb(category_b, p3)\n",
    "P = favorable_ways / total_ways\n",
    "print(f'ймовірність того, що в першу частину потраплять тільки вироби першого сорту, у другу — тільки другого сорту, а в третю — тільки браковані = {P:.6f}')"
   ],
   "id": "27e8be14a78f52f2",
   "outputs": [
    {
     "name": "stdout",
     "output_type": "stream",
     "text": [
      "ймовірність того, що в першу частину потраплять тільки вироби першого сорту, у другу — тільки другого сорту, а в третю — тільки браковані = 0.000065\n"
     ]
    }
   ],
   "execution_count": 101
  },
  {
   "metadata": {},
   "cell_type": "markdown",
   "source": [
    "# Завдання 6\n",
    "Прилад, установлений на борту літака, працює у двох режимах: нормальному\n",
    "під час крейсерського польоту і в умовах перевантаження при зльоті і посадці.\n",
    "Крейсерський режим займає 70% усього часу польоту, а зліт і посадка — 30%.\n",
    "Ймовірність виходу приладу з ладу під час крейсерського польоту дорівнює 0,01, \n",
    "24\n",
    "а при зльоті і посадці — 0,04. 1) Знайдіть надійність (ймовірність безвідказної\n",
    "роботи) приладу за весь час польоту. 2) Під час польоту прилад вийшов із ладу.\n",
    "Знайдіть ймовірності того, що це сталося у крейсерському режимі. "
   ],
   "id": "80f9533251e511be"
  },
  {
   "metadata": {
    "ExecuteTime": {
     "end_time": "2024-12-13T17:36:58.744760Z",
     "start_time": "2024-12-13T17:36:58.741714Z"
    }
   },
   "cell_type": "code",
   "source": [
    "#A - прилад вийшов із ладу\n",
    "#B1 - крейсерський режим\n",
    "#B2 - зльот і посадка\n",
    "P_B1 = 0.7\n",
    "P_B2 = 0.3\n",
    "P_A_B1 = 0.01\n",
    "P_A_B2 = 0.04\n",
    "\n",
    "P_A = P_B1 * P_A_B1 + P_B2 * P_A_B2\n",
    "reliability = 1 - P_A\n",
    "\n",
    "P_B1_A = (P_A_B1 * P_B1) / P_A\n",
    "print(f'надійність приладу за весь час польоту = {reliability:.6f}')\n",
    "print(f'ймовірність того, що це сталося у крейсерському режимі = {P_B1_A:.6f}')"
   ],
   "id": "ff04e3d5c5657d62",
   "outputs": [
    {
     "name": "stdout",
     "output_type": "stream",
     "text": [
      "надійність приладу за весь час польоту = 0.981000\n",
      "ймовірність того, що це сталося у крейсерському режимі = 0.368421\n"
     ]
    }
   ],
   "execution_count": 102
  },
  {
   "metadata": {},
   "cell_type": "markdown",
   "source": [
    "# Завдання 7\n",
    "Здійснюють 12 пострілів по мішені. Ймовірність влучання становить 0,5. Яка\n",
    "ймовірність того, що буде 6 влучань? "
   ],
   "id": "84f8280e033b272f"
  },
  {
   "metadata": {
    "ExecuteTime": {
     "end_time": "2024-12-13T17:36:58.771128Z",
     "start_time": "2024-12-13T17:36:58.766303Z"
    }
   },
   "cell_type": "code",
   "source": [
    "shoots = 12\n",
    "P_hit = 0.5\n",
    "hits = 6\n",
    "\n",
    "P = sc.special.comb(shoots, hits) * P_hit**hits * (1 - P_hit)**(shoots - hits)\n",
    "print(f'ймовірність того, що буде 6 влучань = {P:.6f}')"
   ],
   "id": "5c61c4f6c05000e2",
   "outputs": [
    {
     "name": "stdout",
     "output_type": "stream",
     "text": [
      "ймовірність того, що буде 6 влучань = 0.225586\n"
     ]
    }
   ],
   "execution_count": 103
  },
  {
   "metadata": {},
   "cell_type": "markdown",
   "source": [
    "# Завдання 8\n",
    "У великій партії з 10000 товарів 3% дефектні. Яка ймовірність того, що серед\n",
    "200 випадково вибраних товарів 6 будуть дефектними? "
   ],
   "id": "3b8d6d2c2bad8ace"
  },
  {
   "metadata": {
    "ExecuteTime": {
     "end_time": "2024-12-13T17:36:58.894199Z",
     "start_time": "2024-12-13T17:36:58.788522Z"
    }
   },
   "cell_type": "code",
   "source": [
    "amount = 10000\n",
    "defective = 0.03\n",
    "n = 200\n",
    "k = 6\n",
    "\n",
    "x = (k - n * defective) / math.sqrt(n * defective * (1 - defective)) #нормаване відхилення\n",
    "gauss_value = sc.pdf(x, 0, 1)\n",
    "P = gauss_value / math.sqrt(n * defective * (1 - defective))\n",
    "print(f'ймовірність того, що серед 200 випадково вибраних товарів 6 будуть дефектними = {P:.6f}')"
   ],
   "id": "792cc571563fe3a8",
   "outputs": [
    {
     "ename": "AttributeError",
     "evalue": "Module 'scipy' has no attribute 'pdf'",
     "output_type": "error",
     "traceback": [
      "\u001B[0;31m---------------------------------------------------------------------------\u001B[0m",
      "\u001B[0;31mKeyError\u001B[0m                                  Traceback (most recent call last)",
      "File \u001B[0;32m~/miniconda3/lib/python3.12/site-packages/scipy/__init__.py:137\u001B[0m, in \u001B[0;36m__getattr__\u001B[0;34m(name)\u001B[0m\n\u001B[1;32m    136\u001B[0m \u001B[38;5;28;01mtry\u001B[39;00m:\n\u001B[0;32m--> 137\u001B[0m     \u001B[38;5;28;01mreturn\u001B[39;00m \u001B[38;5;28mglobals\u001B[39m()[name]\n\u001B[1;32m    138\u001B[0m \u001B[38;5;28;01mexcept\u001B[39;00m \u001B[38;5;167;01mKeyError\u001B[39;00m:\n",
      "\u001B[0;31mKeyError\u001B[0m: 'pdf'",
      "\nDuring handling of the above exception, another exception occurred:\n",
      "\u001B[0;31mAttributeError\u001B[0m                            Traceback (most recent call last)",
      "Cell \u001B[0;32mIn[104], line 7\u001B[0m\n\u001B[1;32m      4\u001B[0m k \u001B[38;5;241m=\u001B[39m \u001B[38;5;241m6\u001B[39m\n\u001B[1;32m      6\u001B[0m x \u001B[38;5;241m=\u001B[39m (k \u001B[38;5;241m-\u001B[39m n \u001B[38;5;241m*\u001B[39m defective) \u001B[38;5;241m/\u001B[39m math\u001B[38;5;241m.\u001B[39msqrt(n \u001B[38;5;241m*\u001B[39m defective \u001B[38;5;241m*\u001B[39m (\u001B[38;5;241m1\u001B[39m \u001B[38;5;241m-\u001B[39m defective)) \u001B[38;5;66;03m#нормаване відхилення\u001B[39;00m\n\u001B[0;32m----> 7\u001B[0m gauss_value \u001B[38;5;241m=\u001B[39m sc\u001B[38;5;241m.\u001B[39mpdf(x, \u001B[38;5;241m0\u001B[39m, \u001B[38;5;241m1\u001B[39m)\n\u001B[1;32m      8\u001B[0m P \u001B[38;5;241m=\u001B[39m gauss_value \u001B[38;5;241m/\u001B[39m math\u001B[38;5;241m.\u001B[39msqrt(n \u001B[38;5;241m*\u001B[39m defective \u001B[38;5;241m*\u001B[39m (\u001B[38;5;241m1\u001B[39m \u001B[38;5;241m-\u001B[39m defective))\n\u001B[1;32m      9\u001B[0m \u001B[38;5;28mprint\u001B[39m(\u001B[38;5;124mf\u001B[39m\u001B[38;5;124m'\u001B[39m\u001B[38;5;124mймовірність того, що серед 200 випадково вибраних товарів 6 будуть дефектними = \u001B[39m\u001B[38;5;132;01m{\u001B[39;00mP\u001B[38;5;132;01m:\u001B[39;00m\u001B[38;5;124m.6f\u001B[39m\u001B[38;5;132;01m}\u001B[39;00m\u001B[38;5;124m'\u001B[39m)\n",
      "File \u001B[0;32m~/miniconda3/lib/python3.12/site-packages/scipy/__init__.py:139\u001B[0m, in \u001B[0;36m__getattr__\u001B[0;34m(name)\u001B[0m\n\u001B[1;32m    137\u001B[0m     \u001B[38;5;28;01mreturn\u001B[39;00m \u001B[38;5;28mglobals\u001B[39m()[name]\n\u001B[1;32m    138\u001B[0m \u001B[38;5;28;01mexcept\u001B[39;00m \u001B[38;5;167;01mKeyError\u001B[39;00m:\n\u001B[0;32m--> 139\u001B[0m     \u001B[38;5;28;01mraise\u001B[39;00m \u001B[38;5;167;01mAttributeError\u001B[39;00m(\n\u001B[1;32m    140\u001B[0m         \u001B[38;5;124mf\u001B[39m\u001B[38;5;124m\"\u001B[39m\u001B[38;5;124mModule \u001B[39m\u001B[38;5;124m'\u001B[39m\u001B[38;5;124mscipy\u001B[39m\u001B[38;5;124m'\u001B[39m\u001B[38;5;124m has no attribute \u001B[39m\u001B[38;5;124m'\u001B[39m\u001B[38;5;132;01m{\u001B[39;00mname\u001B[38;5;132;01m}\u001B[39;00m\u001B[38;5;124m'\u001B[39m\u001B[38;5;124m\"\u001B[39m\n\u001B[1;32m    141\u001B[0m     )\n",
      "\u001B[0;31mAttributeError\u001B[0m: Module 'scipy' has no attribute 'pdf'"
     ]
    }
   ],
   "execution_count": 104
  }
 ],
 "metadata": {
  "kernelspec": {
   "display_name": "Python 3",
   "language": "python",
   "name": "python3"
  },
  "language_info": {
   "codemirror_mode": {
    "name": "ipython",
    "version": 2
   },
   "file_extension": ".py",
   "mimetype": "text/x-python",
   "name": "python",
   "nbconvert_exporter": "python",
   "pygments_lexer": "ipython2",
   "version": "2.7.6"
  }
 },
 "nbformat": 4,
 "nbformat_minor": 5
}
