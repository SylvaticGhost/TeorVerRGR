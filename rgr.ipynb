{
 "cells": [
  {
   "metadata": {},
   "cell_type": "markdown",
   "source": [
    "# Розрахунково-графічна робота\n",
    "### Студента групи ІС-34 Ткачова Костянтина"
   ],
   "id": "12d4c5d996bccb5"
  },
  {
   "metadata": {
    "ExecuteTime": {
     "end_time": "2024-12-16T12:30:55.226934Z",
     "start_time": "2024-12-16T12:30:55.222562Z"
    }
   },
   "cell_type": "code",
   "source": [
    "import numpy as np\n",
    "import math\n",
    "import scipy as sc\n",
    "import sympy as sp\n",
    "from sympy import And\n",
    "from helpers import *\n",
    "import matplotlib.pyplot as plt\n",
    "import pandas as pd\n",
    "from tabulate import tabulate\n",
    "from itertools import product\n"
   ],
   "id": "f26ca0e4b2168971",
   "outputs": [],
   "execution_count": 212
  },
  {
   "metadata": {},
   "cell_type": "markdown",
   "source": [
    "# Завдання 1\n",
    "У коробці 5 зелених і 7 жовтих куль. Знайти ймовірність витягти жовту кулю"
   ],
   "id": "49e9f3c43d6a257e"
  },
  {
   "cell_type": "code",
   "id": "initial_id",
   "metadata": {
    "collapsed": true,
    "ExecuteTime": {
     "end_time": "2024-12-16T12:30:55.242104Z",
     "start_time": "2024-12-16T12:30:55.238451Z"
    }
   },
   "source": [
    "g = 5\n",
    "y = 7\n",
    "\n",
    "P_y = y / (g + y)\n",
    "print(f'ймовірність витягти жовту кулю = {P_y}')"
   ],
   "outputs": [
    {
     "name": "stdout",
     "output_type": "stream",
     "text": [
      "ймовірність витягти жовту кулю = 0.5833333333333334\n"
     ]
    }
   ],
   "execution_count": 213
  },
  {
   "metadata": {},
   "cell_type": "markdown",
   "source": [
    "# Завдання 2\n",
    "Шість пасажирів придбали квитки на літак в одному шестимісному ряді\n",
    "крісел і випадковим чином зайняли ці місця. Знайдіть ймовірності того, що\n",
    "тільки 2 пасажири сіли на свої місця"
   ],
   "id": "32684be002cdcc06"
  },
  {
   "metadata": {
    "ExecuteTime": {
     "end_time": "2024-12-16T12:30:55.324757Z",
     "start_time": "2024-12-16T12:30:55.320980Z"
    }
   },
   "cell_type": "code",
   "source": [
    "places = 6\n",
    "passengers = 6\n",
    "right = 2\n",
    "c_6_2 = sc.special.comb(places, right)\n",
    "D_4 = derangements(places - right)\n",
    "P = (c_6_2 * D_4) / sc.special.factorial(places)\n",
    "print(f'ймовірність того, що тільки 2 пасажири сіли на свої місця = {P}')"
   ],
   "id": "6659abba5992fffa",
   "outputs": [
    {
     "name": "stdout",
     "output_type": "stream",
     "text": [
      "ймовірність того, що тільки 2 пасажири сіли на свої місця = 0.1875\n"
     ]
    }
   ],
   "execution_count": 214
  },
  {
   "metadata": {},
   "cell_type": "markdown",
   "source": [
    "# Завдання 3\n",
    "Два дійсні числа 𝑝 і 𝑞 випадково беруться з проміжку [– 2; 2]. Знайдіть\n",
    "ймовірність того, що рівняння 𝑥\n",
    "2 + 𝑝𝑥 + 𝑞 = 0 не має дійсних коренів."
   ],
   "id": "971fd06213e9fab"
  },
  {
   "metadata": {
    "ExecuteTime": {
     "end_time": "2024-12-16T12:30:55.445259Z",
     "start_time": "2024-12-16T12:30:55.345300Z"
    }
   },
   "cell_type": "code",
   "source": [
    "rng = (-2, 2)\n",
    "S = 4 * 4\n",
    "p, q = sp.symbols('p q')\n",
    "#p**2 - 4q < 0\n",
    "#q > p**2 / 4\n",
    "p_vals = np.linspace(-2, 2, 400)\n",
    "q_vals = p_vals ** 2 / 4\n",
    "\n",
    "# Plot the function\n",
    "plt.figure(figsize=(4, 3))\n",
    "plt.plot(p_vals, q_vals, label=r'$q = \\frac{p^2}{4}$')\n",
    "plt.xlabel('p')\n",
    "plt.ylabel('q')\n",
    "plt.title('Graph of q = p^2 / 4')\n",
    "plt.legend()\n",
    "plt.grid(True)\n",
    "plt.show()"
   ],
   "id": "aa7e44d97c7d4bd0",
   "outputs": [
    {
     "data": {
      "text/plain": [
       "<Figure size 400x300 with 1 Axes>"
      ],
      "image/png": "[encoded data removed]"
     },
     "metadata": {},
     "output_type": "display_data"
    }
   ],
   "execution_count": 215
  },
  {
   "metadata": {
    "ExecuteTime": {
     "end_time": "2024-12-16T12:30:55.519256Z",
     "start_time": "2024-12-16T12:30:55.508660Z"
    }
   },
   "cell_type": "code",
   "source": [
    "S_under = sp.integrate(p ** 2 / 4, (p, rng[0], rng[1]))\n",
    "P = S_under / S\n",
    "print(f'ймовірність того, що рівняння 𝑥^2 + 𝑝𝑥 + 𝑞 = 0 не має дійсних коренів = {P}')"
   ],
   "id": "dcc0f2fb11098f6d",
   "outputs": [
    {
     "name": "stdout",
     "output_type": "stream",
     "text": [
      "ймовірність того, що рівняння 𝑥^2 + 𝑝𝑥 + 𝑞 = 0 не має дійсних коренів = 1/12\n"
     ]
    }
   ],
   "execution_count": 216
  },
  {
   "metadata": {},
   "cell_type": "markdown",
   "source": [
    "# Завдання 4\n",
    "Перший контролер оцінює якість трьох виробів, другий — двох. Події\n",
    "𝐴𝑖 ={перший контролер прийняв 𝑖-й виріб, 𝑖 = 1; 2; 3}, 𝐵𝑗 ={другий контролер\n",
    "прийняв 𝑗-й виріб, 𝑗 = 1; 2}, 𝐶 ={перший контролер прийняв тільки 2 вироби,\n",
    "другий — тільки 1}. Виразіть подію 𝐶 через 𝐴𝑖,𝐵𝑗.\n"
   ],
   "id": "85d50cdb106d93e8"
  },
  {
   "metadata": {
    "ExecuteTime": {
     "end_time": "2024-12-16T12:30:55.532052Z",
     "start_time": "2024-12-16T12:30:55.525528Z"
    }
   },
   "cell_type": "code",
   "source": [
    "A1, A2, A3, B1, B2 = sp.symbols('A1 A2 A3 B1 B2')\n",
    "\n",
    "C = ((A1 & A2 & A3 & B1 & ~B2) |\n",
    "     (A1 & A2 & A3 & ~B1 & B2) |\n",
    "     (A1 & A2 & ~A3 & B1 & B2) |\n",
    "     (~A1 & A2 & A3 & B1 & B2) |\n",
    "     (A1 & ~A2 & A3 & B1 & B2))\n"
   ],
   "id": "f50c263418a4332",
   "outputs": [],
   "execution_count": 217
  },
  {
   "metadata": {},
   "cell_type": "markdown",
   "source": [
    "# Завдання 5\n",
    "Партія виробів, яка містить 10 виробів першого сорту, 6 — другого сорту і 4\n",
    "браковані вироби, випадковим способом розбивається на 3 частини у\n",
    "співвідношенні 5:3:2. Знайдіть ймовірність того, що в першу частину потраплять\n",
    "тільки вироби першого сорту, у другу — тільки другого сорту, а в третю — тільки\n",
    "браковані. "
   ],
   "id": "4500d8ff737b7170"
  },
  {
   "metadata": {
    "ExecuteTime": {
     "end_time": "2024-12-16T12:30:55.607394Z",
     "start_time": "2024-12-16T12:30:55.601900Z"
    }
   },
   "cell_type": "code",
   "source": [
    "category_1, category_2, category_b = 10, 6, 4\n",
    "total = category_1 + category_2 + category_b\n",
    "p1, p2, p3 = 5, 3, 2\n",
    "total_ways = sc.special.comb(total, p1) * sc.special.comb(total - p1, p2) * sc.special.comb(total - p1 - p2, p3)\n",
    "favorable_ways = sc.special.comb(category_1, p1) * sc.special.comb(category_2, p2) * sc.special.comb(category_b, p3)\n",
    "P = favorable_ways / total_ways\n",
    "print(\n",
    "    f'ймовірність того, що в першу частину потраплять тільки вироби першого сорту, у другу — тільки другого сорту, а в третю — тільки браковані = {P:.6f}')"
   ],
   "id": "27e8be14a78f52f2",
   "outputs": [
    {
     "name": "stdout",
     "output_type": "stream",
     "text": [
      "ймовірність того, що в першу частину потраплять тільки вироби першого сорту, у другу — тільки другого сорту, а в третю — тільки браковані = 0.000065\n"
     ]
    }
   ],
   "execution_count": 218
  },
  {
   "metadata": {},
   "cell_type": "markdown",
   "source": [
    "# Завдання 6\n",
    "Прилад, установлений на борту літака, працює у двох режимах: нормальному\n",
    "під час крейсерського польоту і в умовах перевантаження при зльоті і посадці.\n",
    "Крейсерський режим займає 70% усього часу польоту, а зліт і посадка — 30%.\n",
    "Ймовірність виходу приладу з ладу під час крейсерського польоту дорівнює 0,01, \n",
    "24\n",
    "а при зльоті і посадці — 0,04. 1) Знайдіть надійність (ймовірність безвідказної\n",
    "роботи) приладу за весь час польоту. 2) Під час польоту прилад вийшов із ладу.\n",
    "Знайдіть ймовірності того, що це сталося у крейсерському режимі. "
   ],
   "id": "80f9533251e511be"
  },
  {
   "metadata": {
    "ExecuteTime": {
     "end_time": "2024-12-16T12:30:55.634909Z",
     "start_time": "2024-12-16T12:30:55.630481Z"
    }
   },
   "cell_type": "code",
   "source": [
    "#A - прилад вийшов із ладу\n",
    "#B1 - крейсерський режим\n",
    "#B2 - зльот і посадка\n",
    "P_B1 = 0.7\n",
    "P_B2 = 0.3\n",
    "P_A_B1 = 0.01\n",
    "P_A_B2 = 0.04\n",
    "\n",
    "P_A = P_B1 * P_A_B1 + P_B2 * P_A_B2\n",
    "reliability = 1 - P_A\n",
    "\n",
    "P_B1_A = (P_A_B1 * P_B1) / P_A\n",
    "print(f'надійність приладу за весь час польоту = {reliability:.6f}')\n",
    "print(f'ймовірність того, що це сталося у крейсерському режимі = {P_B1_A:.6f}')"
   ],
   "id": "ff04e3d5c5657d62",
   "outputs": [
    {
     "name": "stdout",
     "output_type": "stream",
     "text": [
      "надійність приладу за весь час польоту = 0.981000\n",
      "ймовірність того, що це сталося у крейсерському режимі = 0.368421\n"
     ]
    }
   ],
   "execution_count": 219
  },
  {
   "metadata": {},
   "cell_type": "markdown",
   "source": [
    "# Завдання 7\n",
    "Здійснюють 12 пострілів по мішені. Ймовірність влучання становить 0,5. Яка\n",
    "ймовірність того, що буде 6 влучань? "
   ],
   "id": "84f8280e033b272f"
  },
  {
   "metadata": {
    "ExecuteTime": {
     "end_time": "2024-12-16T12:30:55.707142Z",
     "start_time": "2024-12-16T12:30:55.702776Z"
    }
   },
   "cell_type": "code",
   "source": [
    "shoots = 12\n",
    "P_hit = 0.5\n",
    "hits = 6\n",
    "\n",
    "P = sc.special.comb(shoots, hits) * P_hit ** hits * (1 - P_hit) ** (shoots - hits)\n",
    "print(f'ймовірність того, що буде 6 влучань = {P:.6f}')"
   ],
   "id": "5c61c4f6c05000e2",
   "outputs": [
    {
     "name": "stdout",
     "output_type": "stream",
     "text": [
      "ймовірність того, що буде 6 влучань = 0.225586\n"
     ]
    }
   ],
   "execution_count": 220
  },
  {
   "metadata": {},
   "cell_type": "markdown",
   "source": [
    "# Завдання 8\n",
    "У великій партії з 10000 товарів 3% дефектні. Яка ймовірність того, що серед\n",
    "200 випадково вибраних товарів 6 будуть дефектними? "
   ],
   "id": "3b8d6d2c2bad8ace"
  },
  {
   "metadata": {
    "ExecuteTime": {
     "end_time": "2024-12-16T12:30:55.722424Z",
     "start_time": "2024-12-16T12:30:55.717663Z"
    }
   },
   "cell_type": "code",
   "source": [
    "amount = 10000\n",
    "defective = 0.03\n",
    "n = 200\n",
    "k = 6\n",
    "\n",
    "x = (k - n * defective) / math.sqrt(n * defective * (1 - defective))  #нормаване відхилення\n",
    "gauss_value = sc.stats.norm.pdf(x, 0, 1)\n",
    "P = gauss_value / math.sqrt(n * defective * (1 - defective))\n",
    "print(f'ймовірність того, що серед 200 випадково вибраних товарів 6 будуть дефектними = {P:.6f}')"
   ],
   "id": "792cc571563fe3a8",
   "outputs": [
    {
     "name": "stdout",
     "output_type": "stream",
     "text": [
      "ймовірність того, що серед 200 випадково вибраних товарів 6 будуть дефектними = 0.165367\n"
     ]
    }
   ],
   "execution_count": 221
  },
  {
   "metadata": {},
   "cell_type": "markdown",
   "source": [
    "# Завдання 9\n",
    "Кидаючи кубик 200 разів, знайти ймовірність того, що кількість випадань\n",
    "шістки буде від 25 до 35."
   ],
   "id": "6ad48dc3422b736c"
  },
  {
   "metadata": {
    "ExecuteTime": {
     "end_time": "2024-12-16T12:30:55.759341Z",
     "start_time": "2024-12-16T12:30:55.753683Z"
    }
   },
   "cell_type": "code",
   "source": [
    "n = 200\n",
    "p = 1 / 6\n",
    "k1, k2 = 25, 35\n",
    "\n",
    "M = n * p\n",
    "D = n * p * (1 - p)\n",
    "CKB = math.sqrt(D)\n",
    "\n",
    "z1 = (k1 - M) / CKB\n",
    "z2 = (k2 - M) / CKB\n",
    "\n",
    "P = sc.stats.norm.cdf(z2) - sc.stats.norm.cdf(z1)\n",
    "print(f'ймовірність того, що кількість випадань шістки буде від 25 до 35 = {P:.6f}')"
   ],
   "id": "a209243fe5cd1d8b",
   "outputs": [
    {
     "name": "stdout",
     "output_type": "stream",
     "text": [
      "ймовірність того, що кількість випадань шістки буде від 25 до 35 = 0.567162\n"
     ]
    }
   ],
   "execution_count": 222
  },
  {
   "metadata": {},
   "cell_type": "markdown",
   "source": [
    "# Завдання 10\n",
    "Ймовірність щодня на вулиці випадково зустріти знайому людину дорівнює\n",
    "0,002. Яка ймовірність, що серед 1200 випадкових перехожих на вулиці щодня\n",
    "зустрінеться 5 знайомих людей?\n"
   ],
   "id": "17ab1cbe863c8ba6"
  },
  {
   "metadata": {
    "ExecuteTime": {
     "end_time": "2024-12-16T12:30:55.792414Z",
     "start_time": "2024-12-16T12:30:55.788796Z"
    }
   },
   "cell_type": "code",
   "source": [
    "n = 1200\n",
    "p = 0.002\n",
    "k = 5\n",
    "\n",
    "λ = n * p\n",
    "P = λ ** k * math.exp(-λ) / math.factorial(k)\n",
    "print(f'ймовірність, що серед 1200 випадкових перехожих на вулиці щодня зустрінеться 5 знайомих людей = {P:.6f}')"
   ],
   "id": "67fb8c5c74c0edd8",
   "outputs": [
    {
     "name": "stdout",
     "output_type": "stream",
     "text": [
      "ймовірність, що серед 1200 випадкових перехожих на вулиці щодня зустрінеться 5 знайомих людей = 0.060196\n"
     ]
    }
   ],
   "execution_count": 223
  },
  {
   "metadata": {},
   "cell_type": "markdown",
   "source": [
    "# Завдання 11\n",
    "Знайдіть 𝑥1, 𝑥4 і 𝑝3, якщо 𝑥1 < 𝑥4 і відомі математичне сподівання 𝑀(𝑋) = 1,9 і\n",
    "дисперсія 𝐷(𝑋) = 2,49. Побудуйте функцію розподілу 𝐹(𝑥) випадкової\n",
    "величини 𝑋 та знайдіть ймовірність потрапляння цієї величини у проміжок\n",
    "(0,5; 3]."
   ],
   "id": "6719018d424d4b4c"
  },
  {
   "metadata": {
    "ExecuteTime": {
     "end_time": "2024-12-16T12:30:55.980704Z",
     "start_time": "2024-12-16T12:30:55.826826Z"
    }
   },
   "cell_type": "code",
   "source": [
    "x1, x4, p3 = sp.symbols('x1 x4 p3')\n",
    "distribution = {\n",
    "    x1: 0.2,\n",
    "    1: 0.4,\n",
    "    3: p3,\n",
    "    x4: 0.3,\n",
    "}\n",
    "M = 1.9\n",
    "D = 2.49\n",
    "\n",
    "P = np.array(list(distribution.values()))\n",
    "p3_r = sp.solve(sp.Eq(np.sum(P), 1))[0]\n",
    "print(f'p3 = {p3_r}')\n",
    "M_X = np.sum([k * v for k, v in distribution.items()]) - M\n",
    "M_X = M_X.subs(p3, p3_r)\n",
    "M_X = sp.simplify(M_X)\n",
    "print(f'M(X) = {M_X}')\n",
    "\n",
    "M_X2 = np.sum([k ** 2 * v for k, v in distribution.items()]) - M ** 2\n",
    "M_X2 = M_X2.subs(p3, p3_r)\n",
    "\n",
    "#D_X = M_X2 - M_X**2\n",
    "D_X = sp.simplify(sp.Eq(M_X2 - M_X, D))\n",
    "print(f'D(X) = {D_X}')\n",
    "x1_r, x4_r = sp.solve([sp.Eq(M_X, 0), D_X], (x1, x4))\n",
    "print(f\"Розв'язки рівняння x1 = {x1_r}, x4 = {x4_r}\")\n",
    "\n",
    "x_values = list(distribution.keys())\n",
    "x1_r = [val for val in x1_r if val < x_values[1]][0]\n",
    "x4_r = [val for val in x4_r if val > x_values[2]][0]\n",
    "print(f\"Допустимі значення x1 = {x1_r}, x4 = {x4_r}\")"
   ],
   "id": "ea61bf164b195c73",
   "outputs": [
    {
     "name": "stdout",
     "output_type": "stream",
     "text": [
      "p3 = 0.100000000000000\n",
      "M(X) = 0.2*x1 + 0.3*x4 - 1.2\n",
      "D(X) = Eq(-0.2*x1**2 + 0.2*x1 - 0.3*x4**2 + 0.3*x4 + 1.11, -2.49)\n",
      "Розв'язки рівняння x1 = (0.0, 4.00000000000000), x4 = (4.80000000000000, 0.800000000000000)\n",
      "Допустимі значення x1 = 0.0, x4 = 4.80000000000000\n"
     ]
    }
   ],
   "execution_count": 224
  },
  {
   "metadata": {
    "ExecuteTime": {
     "end_time": "2024-12-16T12:33:51.273316Z",
     "start_time": "2024-12-16T12:33:51.132143Z"
    }
   },
   "cell_type": "code",
   "source": [
    "distribution_new = {\n",
    "    x1_r: distribution[x1],\n",
    "    1: distribution[1],\n",
    "    3: p3_r,\n",
    "    x4_r: distribution[x4],\n",
    "}\n",
    "x_values = list(distribution_new.keys())\n",
    "print(f\"Новий розподіл:\\n {tabulate(distribution_new.items(), headers=['x', 'p(x)'], tablefmt='grid')}\")\n",
    "\n",
    "# Побудова функції розподілу\n",
    "def F(x):\n",
    "    if sp.Lt(x, x_values[0]):\n",
    "        return 0\n",
    "    if sp.Lt(x, x_values[1]):\n",
    "        return distribution_new[x_values[0]]\n",
    "    if sp.Lt(x, x_values[2]):\n",
    "        return distribution_new[x_values[0]] + distribution_new[1]\n",
    "    if sp.Lt(x, x_values[3]):\n",
    "        return distribution_new[x_values[0]] + distribution_new[1] + distribution_new[3]\n",
    "    return 0\n",
    "\n",
    "\n",
    "# Побудова графіку функції розподілу\n",
    "x = np.linspace(0, 4, 100)\n",
    "y = [F(val) for val in x]\n",
    "plt.plot(x, y, label='F(x)', color='red')\n",
    "plt.xlabel('x')\n",
    "plt.ylabel('F(x)')\n",
    "plt.title('Графік функції розподілу')\n",
    "plt.grid(True)\n",
    "plt.show()\n"
   ],
   "id": "fbe292886e2a2704",
   "outputs": [
    {
     "name": "stdout",
     "output_type": "stream",
     "text": [
      "Новий розподіл:\n",
      " +-----+--------+\n",
      "|   x |   p(x) |\n",
      "+=====+========+\n",
      "| 0   |    0.2 |\n",
      "+-----+--------+\n",
      "| 1   |    0.4 |\n",
      "+-----+--------+\n",
      "| 3   |    0.1 |\n",
      "+-----+--------+\n",
      "| 4.8 |    0.3 |\n",
      "+-----+--------+\n"
     ]
    },
    {
     "data": {
      "text/plain": [
       "<Figure size 640x480 with 1 Axes>"
      ],
      "image/png": "[encoded data removed]"
     },
     "metadata": {},
     "output_type": "display_data"
    }
   ],
   "execution_count": 231
  },
  {
   "metadata": {},
   "cell_type": "markdown",
   "source": [
    "# Завдання 12\n",
    "Неперервну випадкову величину 𝑋 задано функцією розподілу 𝐹(𝑥) (щільністю\n",
    "ймовірності 𝑓(𝑥)).\n",
    "1). Визначте параметр 𝐴;\n",
    "2). знайдіть щільність ймовірності 𝑓(𝑥) (функцію розподілу 𝐹(𝑥));\n",
    "3.) побудуйте графіки функцій 𝐹(𝑥) і 𝑓(𝑥);\n",
    "4). знайдіть числові характеристики 𝑀(𝑋), 𝐷(𝑋), 𝜎(𝑋);\n",
    "5). обчисліть ймовірність того, що випадкова величина 𝑋 у результаті\n",
    "випробування набуде можливого значення із заданого інтервалу (𝛼; 𝛽).\n"
   ],
   "id": "b972d587c8ab2fe4"
  },
  {
   "metadata": {
    "ExecuteTime": {
     "end_time": "2024-12-16T12:30:56.581427700Z",
     "start_time": "2024-12-16T12:30:02.833563Z"
    }
   },
   "cell_type": "code",
   "source": [
    "x, A = sp.symbols('x A')\n",
    "interval = (0, sp.pi / 2)\n",
    "\n",
    "F = sp.Piecewise(\n",
    "    (0, x <= 0),\n",
    "    (A * (1 - sp.cos(x)), And(0 < x, x <= sp.pi / 2)),\n",
    "    (1, x > sp.pi / 2)\n",
    ")\n",
    "\n",
    "#F(pi) = 1\n",
    "A_v = sp.solve(sp.Eq(A * (1 - sp.cos(sp.pi)), 1))[0]\n",
    "print(f'Параметр A = {A_v}')\n",
    "F = F.subs(A, A_v)\n",
    "print(f'Функція розподілу F(x) = {F}')\n",
    "\n",
    "f = sp.diff(F, x)\n",
    "print(f'Щільність ймовірності f(x) = {f}')\n"
   ],
   "id": "9bb55d30c86c0646",
   "outputs": [
    {
     "name": "stdout",
     "output_type": "stream",
     "text": [
      "Параметр A = 1/2\n",
      "Функція розподілу F(x) = Piecewise((0, x <= 0), (1/2 - cos(x)/2, x <= pi/2), (1, True))\n",
      "Щільність ймовірності f(x) = Piecewise((0, x <= 0), (sin(x)/2, x <= pi/2), (0, True))\n"
     ]
    }
   ],
   "execution_count": 195
  },
  {
   "metadata": {
    "ExecuteTime": {
     "end_time": "2024-12-16T12:30:56.598448300Z",
     "start_time": "2024-12-16T12:30:02.919628Z"
    }
   },
   "cell_type": "code",
   "source": [
    "# Побудова графіків\n",
    "F_func = sp.lambdify(x, F, 'numpy')\n",
    "f_func = sp.lambdify(x, f, 'numpy')\n",
    "\n",
    "x_vals = np.linspace(-1, 4, 100)\n",
    "F_vals = F_func(x_vals)\n",
    "f_vals = f_func(x_vals)\n",
    "\n",
    "plt.figure(figsize=(10, 5))\n",
    "plt.plot(x_vals, F_vals, label='F(x)', color='red')\n",
    "plt.plot(x_vals, f_vals, label='f(x)', color='green')\n",
    "plt.xlabel('x')\n",
    "plt.ylabel('y')\n",
    "plt.title('Графіки функцій F(x) та f(x)')\n",
    "plt.legend()\n",
    "plt.grid(True)\n",
    "plt.show()"
   ],
   "id": "496ddac771e14843",
   "outputs": [
    {
     "data": {
      "text/plain": [
       "<Figure size 1000x500 with 1 Axes>"
      ],
      "image/png": "[encoded data removed]"
     },
     "metadata": {},
     "output_type": "display_data"
    }
   ],
   "execution_count": 196
  },
  {
   "metadata": {
    "ExecuteTime": {
     "end_time": "2024-12-16T12:30:56.599453700Z",
     "start_time": "2024-12-16T12:30:03.047280Z"
    }
   },
   "cell_type": "code",
   "source": [
    "# Числові характеристики\n",
    "\n",
    "M_X = sp.integrate(x * f, (x, 0, sp.pi))\n",
    "M_X = sp.simplify(M_X).evalf()\n",
    "print(f'Математичне сподівання M(X) = {M_X}')\n",
    "\n",
    "D_X = sp.integrate(x ** 2 * f, (x, 0, sp.pi)) - M_X ** 2\n",
    "D_X = sp.simplify(D_X).evalf()\n",
    "print(f'Дисперсія D(X) = {D_X}')\n",
    "\n",
    "sigma_X = sp.sqrt(D_X)\n",
    "print(f'Середньоквадратичне відхилення σ(X) = {sigma_X}')"
   ],
   "id": "51cb3aad2b54b1c3",
   "outputs": [
    {
     "name": "stdout",
     "output_type": "stream",
     "text": [
      "Математичне сподівання M(X) = 0.500000000000000\n",
      "Дисперсія D(X) = 0.320796326794897\n",
      "Середньоквадратичне відхилення σ(X) = 0.566388847696436\n"
     ]
    }
   ],
   "execution_count": 197
  },
  {
   "metadata": {
    "ExecuteTime": {
     "end_time": "2024-12-16T12:30:56.610977600Z",
     "start_time": "2024-12-16T12:30:03.186967Z"
    }
   },
   "cell_type": "code",
   "source": [
    "#Ймовірність того, що 𝑋 у результаті випробування набуде можливого значення із (𝛼; 𝛽).\n",
    "alpha, beta = sp.symbols('alpha beta')\n",
    "P = sp.integrate(f, (x, alpha, beta)).evalf(subs={alpha: interval[0], beta: interval[1]})\n",
    "print(f'Ймовірність того, що 𝑋 у результаті випробування набуде можливого значення із (𝛼; 𝛽) = {P}')\n"
   ],
   "id": "d0abd12fa651941b",
   "outputs": [
    {
     "name": "stdout",
     "output_type": "stream",
     "text": [
      "Ймовірність того, що 𝑋 у результаті випробування набуде можливого значення із (𝛼; 𝛽) = 0.500000000000000\n"
     ]
    }
   ],
   "execution_count": 198
  },
  {
   "metadata": {},
   "cell_type": "markdown",
   "source": [
    "# Завдання 13\n",
    "Дискретна випадкова величина 𝑋 задана своїм рядом розподілу. Знайти:\n",
    "1. моду випадкової величини,\n",
    "2. математичне сподівання випадкової величини,\n",
    "3. дисперсію випадкової величини,\n",
    "4. коефіцієнт асиметрії випадкової величини,\n",
    "5. ексцес випадкової величини,\n",
    "6. побудувати твірну функцію випадкової величини."
   ],
   "id": "3699e0328c00bf9"
  },
  {
   "metadata": {
    "ExecuteTime": {
     "end_time": "2024-12-16T12:30:56.610977600Z",
     "start_time": "2024-12-16T12:30:03.286669Z"
    }
   },
   "cell_type": "code",
   "source": [
    "\n",
    "distribution = {\n",
    "    'xi': [-3, -2, -1, 0, 1],\n",
    "    'pi': [0.22, 0.18, 0.21, 0.23, 0.16]\n",
    "}\n",
    "\n",
    "df = pd.DataFrame(distribution)\n",
    "\n",
    "mode = df['xi'][df['pi'].idxmax()]\n",
    "print(f'Мода випадкової величини = {mode}')\n",
    "\n",
    "M_X = sum([xi * pi for xi, pi in zip(distribution['xi'], distribution['pi'])])\n",
    "print(f'Математичне сподівання випадкової величини = {M_X}')\n",
    "\n",
    "D_X = sum([pi * (xi - M_X) ** 2 for xi, pi in zip(distribution['xi'], distribution['pi'])])\n",
    "print(f'Дисперсія випадкової величини = {D_X}')\n",
    "\n",
    "sigma_X = math.sqrt(D_X)\n",
    "skewness = sum([pi * ((xi - M_X) / sigma_X) ** 3 for xi, pi in zip(distribution['xi'], distribution['pi'])])\n",
    "print(f'Коефіцієнт асиметрії випадкової величини = {skewness}')\n",
    "\n",
    "kurtosis = sc.stats.kurtosis(distribution['xi'], fisher=True)\n",
    "print(f'Ексцес випадкової величини = {kurtosis}')\n",
    "M4_X = sum(p * (x - M_X) ** 4 for x, p in zip(distribution['xi'], distribution['pi']))\n",
    "kurtosis = M4_X / D_X ** 2 - 3\n",
    "print(f'Ексцес випадкової величини = {kurtosis}')\n",
    "\n",
    "t = sp.symbols('t')\n",
    "G = sum([pi * sp.exp(t * xi) for xi, pi in zip(distribution['xi'], distribution['pi'])])\n",
    "print(f'Твірна функція випадкової величини = {G}')\n"
   ],
   "id": "69c8885bfe525d68",
   "outputs": [
    {
     "name": "stdout",
     "output_type": "stream",
     "text": [
      "Мода випадкової величини = 0\n",
      "Математичне сподівання випадкової величини = -1.07\n",
      "Дисперсія випадкової величини = 1.9251\n",
      "Коефіцієнт асиметрії випадкової величини = -0.009504173037881054\n",
      "Ексцес випадкової величини = -1.3\n",
      "Ексцес випадкової величини = -1.2659868827499468\n",
      "Твірна функція випадкової величини = 0.16*exp(t) + 0.23 + 0.21*exp(-t) + 0.18*exp(-2*t) + 0.22*exp(-3*t)\n"
     ]
    }
   ],
   "execution_count": 199
  },
  {
   "metadata": {},
   "cell_type": "markdown",
   "source": [
    "# Завдання 14\n",
    "Неперервна випадкова величина 𝑋 задана своєю функцією розподілу.\n",
    "Знайти:\n",
    "1). моду випадкової величини,\n",
    "2). медіану випадкової величини,\n",
    "3). квантиль порядку 0.75,\n",
    "4). коефіцієнт асиметрії випадкової величини,\n",
    "5). ексцес випадкової величини."
   ],
   "id": "cab5151dfe02379c"
  },
  {
   "metadata": {
    "ExecuteTime": {
     "end_time": "2024-12-16T12:30:56.610977600Z",
     "start_time": "2024-12-16T12:30:03.358115Z"
    }
   },
   "cell_type": "code",
   "source": [
    "x = sp.symbols('x', real=True)\n",
    "F = sp.Piecewise(\n",
    "    (0, x <= sp.exp(1) + 2),\n",
    "    (sp.log(x - 2), And(x > sp.exp(1) + 2, x < sp.exp(2) + 2)),\n",
    "    (1, x >= sp.exp(2) + 2)\n",
    ")\n",
    "\n",
    "#Функція щільності для проміжку де y != 0\n",
    "f = sp.diff(sp.log(x - 2), x)\n",
    "\n",
    "#Знаходиму найбільше значення функції щільності\n",
    "f_lambdified = sp.lambdify(x, f, 'numpy')\n",
    "minimize_result = sc.optimize.minimize_scalar(lambda x: -f_lambdified(x), bounds=(np.exp(1) + 2, np.exp(2) + 2),\n",
    "                                              method='bounded')\n",
    "max_value = -minimize_result.fun\n",
    "mode = minimize_result.x\n",
    "print(f'Мода випадкової величини = {mode}')\n",
    "\n",
    "#Медіана\n",
    "median = sp.nsolve(sp.log(x - 2) - 0.5, x, sp.N(sp.exp(1)) + 2)\n",
    "print(f'Медіана випадкової величини = {median}')\n",
    "\n",
    "#Квантиль порядку 0.75\n",
    "quantile = sp.nsolve(sp.log(x - 2) - 0.75, x, sp.N(sp.exp(1)) + 2)\n",
    "print(f'Квантиль порядку 0.75 = {quantile}')\n",
    "\n",
    "#Коефіцієнт асиметрії\n",
    "mean = sp.integrate(x * f, (x, sp.exp(1) + 2, sp.exp(2) + 2))\n",
    "D = sp.integrate((x - mean) ** 2 * f, (x, sp.exp(1) + 2, sp.exp(2) + 2))  #Дисперсія\n",
    "M3 = sp.integrate((x - mean) ** 3 * f, (x, sp.exp(1) + 2, sp.exp(2) + 2))  #Момент 3-го порядку\n",
    "skewness = M3 / D ** (3 / 2)  #Коефіцієнт асиметрії\n",
    "skewness = sp.simplify(skewness).evalf()\n",
    "print(f'Коефіцієнт асиметрії випадкової величини = {skewness}')\n",
    "\n",
    "M4 = sp.integrate((x - mean) ** 4 * f, (x, sp.exp(1) + 2, sp.exp(2) + 2))  #Момент 4-го порядку\n",
    "kurtosis = M4 / D ** 2 - 3  #Ексцес\n",
    "kurtosis = sp.simplify(kurtosis).evalf()\n",
    "print(f'Ексцес випадкової величини = {kurtosis}')\n"
   ],
   "id": "b654490af1881d85",
   "outputs": [
    {
     "name": "stdout",
     "output_type": "stream",
     "text": [
      "Мода випадкової величини = 4.7182884010249895\n",
      "Медіана випадкової величини = 3.64872127070013\n",
      "Квантиль порядку 0.75 = 4.11700001661267\n",
      "Коефіцієнт асиметрії випадкової величини = 0.344115313494101\n",
      "Ексцес випадкової величини = -1.07025003150348\n"
     ]
    }
   ],
   "execution_count": 200
  },
  {
   "metadata": {},
   "cell_type": "markdown",
   "source": [
    "# Завдання 15\n",
    "Із п’яти ключів, що є в наявності, лише один підходить до замка. Складіть\n",
    "ряд розподілу випадкової величини 𝑋 — кількості випробувань при відмиканні\n",
    "замка, якщо ключ, випробуваний один раз, у наступних випробуваннях участі не\n",
    "бере, і знайдіть 𝑀(𝑋),𝐷(𝑋), 𝜎(𝑋) цієї випадкової величини."
   ],
   "id": "71235723398b61ae"
  },
  {
   "metadata": {
    "ExecuteTime": {
     "end_time": "2024-12-16T12:30:56.612064400Z",
     "start_time": "2024-12-16T12:30:04.455993Z"
    }
   },
   "cell_type": "code",
   "source": [
    "n = 5\n",
    "\n",
    "\n",
    "def P(k):\n",
    "    prob = 1 / (n - k + 1)\n",
    "    for i in range(k, 1, -1):\n",
    "        prob *= (n - i + 1) / (n - i + 2)\n",
    "    return prob\n",
    "\n",
    "\n",
    "distribution = {\n",
    "    'Xi': [i for i in range(1, n + 1)],\n",
    "    'Pi': [P(i) for i in range(1, n + 1)]\n",
    "}\n",
    "df = pd.DataFrame(distribution)\n",
    "print('Таблиця розподілу: \\n', tabulate(df.T, headers=[], tablefmt='grid'))"
   ],
   "id": "c1a5451706248afb",
   "outputs": [
    {
     "name": "stdout",
     "output_type": "stream",
     "text": [
      "Таблиця розподілу: \n",
      " +----+-----+-----+-----+-----+-----+\n",
      "| Xi | 1   | 2   | 3   | 4   | 5   |\n",
      "+----+-----+-----+-----+-----+-----+\n",
      "| Pi | 0.2 | 0.2 | 0.2 | 0.2 | 0.2 |\n",
      "+----+-----+-----+-----+-----+-----+\n"
     ]
    }
   ],
   "execution_count": 201
  },
  {
   "metadata": {
    "ExecuteTime": {
     "end_time": "2024-12-16T12:30:56.616049100Z",
     "start_time": "2024-12-16T12:30:04.524090Z"
    }
   },
   "cell_type": "code",
   "source": [
    "M_X = sum([xi * pi for xi, pi in zip(distribution['Xi'], distribution['Pi'])])\n",
    "D_X = sum([pi * (xi - M_X) ** 2 for xi, pi in zip(distribution['Xi'], distribution['Pi'])])\n",
    "sigma_X = math.sqrt(D_X)\n",
    "print(f'Математичне сподівання M(X) = {M_X}')\n",
    "print(f'Дисперсія D(X) = {D_X}')\n",
    "print(f'Середньоквадратичне відхилення σ(X) = {sigma_X}')"
   ],
   "id": "82b17ae89ae7a9eb",
   "outputs": [
    {
     "name": "stdout",
     "output_type": "stream",
     "text": [
      "Математичне сподівання M(X) = 3.0\n",
      "Дисперсія D(X) = 2.0\n",
      "Середньоквадратичне відхилення σ(X) = 1.4142135623730951\n"
     ]
    }
   ],
   "execution_count": 202
  },
  {
   "metadata": {},
   "cell_type": "markdown",
   "source": [
    "# Завдання 16\n",
    "Літак може бути відправлений у рейс, якщо відхилення його завантаження\n",
    "від проектного не перевищує 10 т. Випадкові відхилення дійсного завантаження\n",
    "від проектного підпорядковані нормальному закону з параметрами 𝑎 = 0 і 𝜎 = 4\n",
    "т. Яким при цьому є відсоток безпеки польотів?"
   ],
   "id": "4b2bd1d28ec7be6b"
  },
  {
   "metadata": {
    "ExecuteTime": {
     "end_time": "2024-12-16T12:30:56.616049100Z",
     "start_time": "2024-12-16T12:30:04.537608Z"
    }
   },
   "cell_type": "code",
   "source": [
    "a = 0\n",
    "sigma = 4\n",
    "bounds = (-10, 10)\n",
    "P_lower = sc.stats.norm.cdf(bounds[0], a, sigma)\n",
    "P_upper = sc.stats.norm.cdf(bounds[1], a, sigma)\n",
    "\n",
    "P = P_upper - P_lower\n",
    "print(f\"Відсоток безпеки польотів: {P * 100:.2f}%\")"
   ],
   "id": "83723055d6947802",
   "outputs": [
    {
     "name": "stdout",
     "output_type": "stream",
     "text": [
      "Відсоток безпеки польотів: 98.76%\n"
     ]
    }
   ],
   "execution_count": 203
  },
  {
   "metadata": {},
   "cell_type": "markdown",
   "source": [
    "# Завдання 17\n",
    " За даними вимірювань середнє значення відхилення осі маятника від\n",
    "вертикалі становить 0,05°. 1) Оцініть ймовірність того, що відхилення осі\n",
    "маятника від вертикалі (у випадковий час) не перевищить 2°; 2) оцініть ту саму\n",
    "ймовірність, якщо середнє квадратичне відхилення осі маятника дорівнює 1,6°."
   ],
   "id": "b89d7b8be6d72161"
  },
  {
   "metadata": {
    "ExecuteTime": {
     "end_time": "2024-12-16T12:30:56.623564500Z",
     "start_time": "2024-12-16T12:30:04.573853Z"
    }
   },
   "cell_type": "code",
   "source": [
    "a = 0.05\n",
    "sigma = sp.symbols('sigma')\n",
    "x = 2\n",
    "\n",
    "Z = (x - a) / sigma\n",
    "P = sp.erf(Z / math.sqrt(2)) / x + a  # функція помилок Гауса\n",
    "P = sp.simplify(P)\n",
    "print(f'Ймовірність того, що відхилення осі маятника від вертикалі не перевищить 2° =\\n {sp.pretty(P)}')\n",
    "\n",
    "sigma_v = 1.6\n",
    "P_v = P.subs(sigma, sigma_v)\n",
    "print(f'Ймовірність того, що відхилення осі маятника від вертикалі не перевищить 2° при σ = 1.6° = {P_v}')\n"
   ],
   "id": "a21e2574c0def273",
   "outputs": [
    {
     "name": "stdout",
     "output_type": "stream",
     "text": [
      "Ймовірність того, що відхилення осі маятника від вертикалі не перевищить 2° =\n",
      "    ⎛1.37885822331377⎞       \n",
      "erf⎜────────────────⎟       \n",
      "   ⎝       σ        ⎠       \n",
      "───────────────────── + 0.05\n",
      "          2                 \n",
      "Ймовірність того, що відхилення осі маятника від вертикалі не перевищить 2° при σ = 1.6° = 0.438530452916129\n"
     ]
    }
   ],
   "execution_count": 204
  },
  {
   "metadata": {},
   "cell_type": "markdown",
   "source": [
    "# Завдання 18\n",
    "Систему дискретних випадкових величин (𝑋; 𝑌) задано матрицею розподілу.\n",
    "Знайдіть:\n",
    "1). функцію розподілу системи випадкових величин\n",
    "2). ряди розподілу складових 𝑋 i 𝑌;\n",
    "3). математичні сподівання та середні квадратичні відхилення складових;\n",
    "4). кореляційний момент та коефіцієнт кореляції системи;\n",
    "5). зробити висновок щодо сили залежності між компонентами системи.\n"
   ],
   "id": "5e47d9a0501b53b7"
  },
  {
   "metadata": {
    "ExecuteTime": {
     "end_time": "2024-12-16T12:30:56.625564Z",
     "start_time": "2024-12-16T12:30:04.630046Z"
    }
   },
   "cell_type": "code",
   "source": [
    "data = {'Y': [0.10, 0.15, 0.20, 0.25],\n",
    "        -1.00: [0.15, 0.20, 0.01, 0.25],\n",
    "        0.00: [0.10, 0.15, 0.02, 0.02],\n",
    "        1.00: [0.02, 0.05, 0.02, 0.01]}\n",
    "\n",
    "df = pd.DataFrame(data) # Встановлення 'Y' як індексу\n",
    "df.set_index('Y', inplace=True)\n",
    "\n",
    "x_values = list(df.columns)\n",
    "y_values = list(df.index)\n",
    "\n",
    "# Функція розподілу\n",
    "def F(x, y):\n",
    "    x_vals = [val for val in x_values if val <= x]\n",
    "    y_vals = [val for val in y_values if val <= y]\n",
    "    return df.loc[y_vals, x_vals].values.sum()\n",
    "\n",
    "x_probs = df[x_values].sum(axis=0)\n",
    "x_probs = df.values.sum(axis=0)\n",
    "y_probs = df.values.sum(axis=1)"
   ],
   "id": "ecbbb6b4407f845c",
   "outputs": [],
   "execution_count": 205
  },
  {
   "metadata": {
    "ExecuteTime": {
     "end_time": "2024-12-16T12:30:56.625564Z",
     "start_time": "2024-12-16T12:30:04.700882Z"
    }
   },
   "cell_type": "code",
   "source": [
    "M_X = sum([xi * pi for xi, pi in zip(x_values, x_probs)])\n",
    "D_X = sum([pi * (xi - M_X) ** 2 for xi, pi in zip(x_values, x_probs)])\n",
    "CKB_X = math.sqrt(D_X)\n",
    "print(f'Математичне сподівання X = {M_X}')\n",
    "print(f'Середнє квадратичне відхилення X = {CKB_X}')\n",
    "\n",
    "M_Y = sum(y * p for y, p in zip(y_values, y_probs))\n",
    "D_Y = sum(p * (y - M_Y) ** 2 for y, p in zip(y_values, y_probs))\n",
    "CKB_Y = math.sqrt(D_Y)\n",
    "print(f'Математичне сподівання Y = {M_Y}')\n",
    "print(f'Середнє квадратичне відхилення Y = {CKB_Y}')"
   ],
   "id": "8039e891ee0d2072",
   "outputs": [
    {
     "name": "stdout",
     "output_type": "stream",
     "text": [
      "Математичне сподівання X = -0.51\n",
      "Середнє квадратичне відхилення X = 0.6707458535093601\n",
      "Математичне сподівання Y = 0.167\n",
      "Середнє квадратичне відхилення Y = 0.057541289523263206\n"
     ]
    }
   ],
   "execution_count": 206
  },
  {
   "metadata": {
    "ExecuteTime": {
     "end_time": "2024-12-16T12:30:56.626564700Z",
     "start_time": "2024-12-16T12:30:04.755731Z"
    }
   },
   "cell_type": "code",
   "source": [
    "K = 0\n",
    "for i, x in enumerate(x_values):\n",
    "    for j, y in enumerate(y_values):\n",
    "        K += (x - M_X) * (y - M_Y) * df.values[j, i]\n",
    "print(f'Кореляційний момент: {K}')\n",
    "\n",
    "r = K / (CKB_X * CKB_Y)\n",
    "print(f'Коефіцієнт кореляції: {r}')"
   ],
   "id": "2a5b319935481002",
   "outputs": [
    {
     "name": "stdout",
     "output_type": "stream",
     "text": [
      "Кореляційний момент: -0.008330000000000002\n",
      "Коефіцієнт кореляції: -0.2158278152036575\n"
     ]
    }
   ],
   "execution_count": 207
  },
  {
   "metadata": {},
   "cell_type": "markdown",
   "source": [
    "### Висновок:\n",
    " Коефіцієнт кореляції r=-0.4 в межах -1 до 1, 0.3 < |r| < 0.7, тому зв'язок між компонентами системи середній."
   ],
   "id": "56215786138ac67e"
  },
  {
   "metadata": {},
   "cell_type": "markdown",
   "source": [
    "# Завдання 19\n",
    "Система неперервних випадкових величин (𝑋; 𝑌) задана щільністю\n",
    "розподілу. Знайдіть:\n",
    "1. коефіцієнт 𝐴;\n",
    "2. функцію розподілу;\n",
    "3. математичні сподівання та середні квадратичні відхилення складових 𝑋 i 𝑌;\n",
    "4. кореляційний момент та коефіцієнт кореляції системи."
   ],
   "id": "ebf1110daf265261"
  },
  {
   "metadata": {
    "ExecuteTime": {
     "end_time": "2024-12-16T12:30:56.634082900Z",
     "start_time": "2024-12-16T12:30:04.772614Z"
    }
   },
   "cell_type": "code",
   "source": [
    "x, y, A = sp.symbols('x y A')\n",
    "\n",
    "f = sp.Piecewise(\n",
    "    (A * x**2 * y, And(x <= 1, y >= 0, y <= x)),\n",
    "     (0, True)\n",
    ")\n",
    "\n",
    "I = sp.integrate(sp.integrate(A*x**2*y, (y, 0, x)), (x, 0, 1))\n",
    "A_v = sp.solve(I - 1, A)[0]\n",
    "print(f'Коефіцієнт A = {A_v}')\n",
    "f = f.subs(A, A_v)\n",
    "\n",
    "\n",
    "def F(x_, y_):\n",
    "    if And(x_ <= 1, y_ >= 0, y_ <= x_):\n",
    "        I = sp.integrate(sp.integrate(A * x_ ** 2 * y_, (y_, 0, y_)), (x_, 0, x_))\n",
    "        return I.subs({x: x_, y: y_})\n",
    "    return 0\n",
    "\n",
    "M_X = sp.integrate(sp.integrate(x * f, (y, 0, x)), (x, 0, 1))\n",
    "M_Y = sp.integrate(sp.integrate(y * f, (y, 0, x)), (x, 0, 1))\n",
    "print(f'Математичне сподівання X = {M_X}')\n",
    "print(f'Математичне сподівання Y = {M_Y}')\n",
    "\n",
    "M_X2 = sp.integrate(sp.integrate(x ** 2 * f, (y, 0, x)), (x, 0, 1))\n",
    "M_Y2 = sp.integrate(sp.integrate(y ** 2 * f, (y, 0, x)), (x, 0, 1))\n",
    "D_X = M_X2 - M_X ** 2\n",
    "D_Y = M_Y2 - M_Y ** 2\n",
    "CKB_X = sp.sqrt(D_X).evalf()\n",
    "CKB_Y = sp.sqrt(D_Y).evalf()\n",
    "print(f'Середнє квадратичне відхилення X = {CKB_X}')\n",
    "print(f'Середнє квадратичне відхилення Y = {CKB_Y}')\n",
    "\n",
    "M_XY = sp.integrate(sp.integrate(x * y * f, (y, 0, x)), (x, 0, 1))\n",
    "K = M_XY - M_X * M_Y\n",
    "r = K / (CKB_X * CKB_Y)\n",
    "print(f'Кореляційний момент: {K}')\n",
    "print(f'Коефіцієнт кореляції: {r}')"
   ],
   "id": "d87e5c1b35fd285c",
   "outputs": [
    {
     "name": "stdout",
     "output_type": "stream",
     "text": [
      "Коефіцієнт A = 10\n",
      "Математичне сподівання X = 5/6\n",
      "Математичне сподівання Y = 5/9\n",
      "Середнє квадратичне відхилення X = 0.140859042454753\n",
      "Середнє квадратичне відхилення Y = 0.220229157547803\n",
      "Кореляційний момент: 5/378\n",
      "Коефіцієнт кореляції: 0.426401432711221\n"
     ]
    }
   ],
   "execution_count": 208
  },
  {
   "metadata": {},
   "cell_type": "markdown",
   "source": [
    "# Завдання 20\n",
    "Дана множина чисел від 1 до 10. Навмання двічі беруться по три числа. 𝑋 –\n",
    "кількість чисел, які діляться на 3, у першій трійці а 𝑌 – кількість чисел, які\n",
    "діляться на 4, у другій трійці. Побудувати закон розподілу системи (𝑋; 𝑌) та\n",
    "встановити, залежні чи незалежні її складові."
   ],
   "id": "864b3901ba811aa8"
  },
  {
   "metadata": {
    "ExecuteTime": {
     "end_time": "2024-12-16T12:30:56.634082900Z",
     "start_time": "2024-12-16T12:30:04.964716Z"
    }
   },
   "cell_type": "code",
   "source": [
    "data = [i for i in range(1, 11)]\n",
    "for_X = [i for i in data if i % 3 == 0] # числа, які діляться на 3\n",
    "X = [i for i in range(0, len(for_X) + 1)] # Можливі значення X\n",
    "for_Y = [i for i in data if i % 4 == 0] # числа, які діляться на 4\n",
    "Y = [i for i in range(0, len(for_Y) + 1)] # Можливі значення Y\n",
    "\n",
    "P_X = lambda k: sc.special.comb(len(for_X), k) * sc.special.comb(len(data) - len(for_X), 3 - k) / sc.special.comb(len(data), 3)\n",
    "P_Y = lambda k: sc.special.comb(len(for_Y), k) * sc.special.comb(len(data) - len(for_Y), 3 - k) / sc.special.comb(len(data), 3)\n",
    "\n",
    "P_XY = lambda k, m: P_X(k) * P_Y(m)\n",
    "\n",
    "table = []\n",
    "for x, y in product(X, Y):\n",
    "    p_x = P_X(x)\n",
    "    p_y = P_Y(y)\n",
    "    p_xy = P_XY(x, y)\n",
    "    table.append({'X': x, 'Y': y,'P(X=x)': p_x,'P(Y=y)': p_y , 'P(X=x, Y=y)': p_xy})\n",
    "\n",
    "df = pd.DataFrame(table)\n",
    "print('Таблиця розподілу: \\n', tabulate(df, headers='keys', tablefmt='pretty'))"
   ],
   "id": "a20cfb19495c0473",
   "outputs": [
    {
     "name": "stdout",
     "output_type": "stream",
     "text": [
      "Таблиця розподілу: \n",
      " +----+-----+-----+----------------------+---------------------+-----------------------+\n",
      "|    |  X  |  Y  |        P(X=x)        |       P(Y=y)        |      P(X=x, Y=y)      |\n",
      "+----+-----+-----+----------------------+---------------------+-----------------------+\n",
      "| 0  | 0.0 | 0.0 |  0.2916666666666667  | 0.4666666666666667  |  0.13611111111111113  |\n",
      "| 1  | 0.0 | 1.0 |  0.2916666666666667  | 0.4666666666666667  |  0.13611111111111113  |\n",
      "| 2  | 0.0 | 2.0 |  0.2916666666666667  | 0.06666666666666667 | 0.019444444444444445  |\n",
      "| 3  | 1.0 | 0.0 |        0.525         | 0.4666666666666667  |  0.24500000000000002  |\n",
      "| 4  | 1.0 | 1.0 |        0.525         | 0.4666666666666667  |  0.24500000000000002  |\n",
      "| 5  | 1.0 | 2.0 |        0.525         | 0.06666666666666667 |         0.035         |\n",
      "| 6  | 2.0 | 0.0 |        0.175         | 0.4666666666666667  |  0.08166666666666667  |\n",
      "| 7  | 2.0 | 1.0 |        0.175         | 0.4666666666666667  |  0.08166666666666667  |\n",
      "| 8  | 2.0 | 2.0 |        0.175         | 0.06666666666666667 | 0.011666666666666665  |\n",
      "| 9  | 3.0 | 0.0 | 0.008333333333333333 | 0.4666666666666667  | 0.0038888888888888888 |\n",
      "| 10 | 3.0 | 1.0 | 0.008333333333333333 | 0.4666666666666667  | 0.0038888888888888888 |\n",
      "| 11 | 3.0 | 2.0 | 0.008333333333333333 | 0.06666666666666667 | 0.0005555555555555556 |\n",
      "+----+-----+-----+----------------------+---------------------+-----------------------+\n"
     ]
    }
   ],
   "execution_count": 209
  },
  {
   "metadata": {},
   "cell_type": "markdown",
   "source": [
    "### Висновок:\n",
    "Через те, що вибір чисел у першій і другій трійках є незалежним (вони обираються окремо і без перетину), ймовірності\n",
    "x та y незалежні."
   ],
   "id": "34c746ea270c8f79"
  },
  {
   "metadata": {},
   "cell_type": "markdown",
   "source": [
    "# Завдання 21\n",
    "Випадкова величина E має щільність розподілу 𝑝(𝑥). Знайти щільність\n",
    "розподілу ймовірностей 𝑝(𝑦) випадкової величини n = ().\n"
   ],
   "id": "57651e49029b6e22"
  },
  {
   "metadata": {
    "ExecuteTime": {
     "end_time": "2024-12-16T12:30:56.635083300Z",
     "start_time": "2024-12-16T12:30:05.004842Z"
    }
   },
   "cell_type": "code",
   "source": [
    "x, y = sp.symbols('x y')\n",
    "p = sp.exp(-x**2/2)/sp.sqrt(2*sp.pi)\n",
    "phi = x**2\n",
    "\n",
    "# Знаходимо обернену функцію: ξ = sqrt(η) або ξ = -sqrt(η)\n",
    "x_pos, x_neg = sp.sqrt(y), -sp.sqrt(y)\n",
    "\n",
    "diff_pos = sp.diff(x_pos, y)\n",
    "diff_neg = sp.diff(x_neg, y)\n",
    "\n",
    "p_y = p.subs(x, x_pos) * abs(diff_pos) + p.subs(x, x_neg) * abs(diff_neg)\n",
    "p_y = sp.simplify(p_y)\n",
    "\n",
    "print(f'Щільність розподілу ймовірностей p(y):')\n",
    "sp.pprint(p_y)"
   ],
   "id": "bc2e6e9ee1ec0273",
   "outputs": [
    {
     "name": "stdout",
     "output_type": "stream",
     "text": [
      "Щільність розподілу ймовірностей p(y):\n",
      "     -y  \n",
      "     ─── \n",
      "      2  \n",
      " √2⋅ℯ    \n",
      "─────────\n",
      "2⋅√π⋅│√y│\n"
     ]
    }
   ],
   "execution_count": 210
  },
  {
   "metadata": {
    "ExecuteTime": {
     "end_time": "2024-12-16T12:30:56.635083300Z",
     "start_time": "2024-12-16T12:30:05.074750Z"
    }
   },
   "cell_type": "code",
   "source": "",
   "id": "3af15ed8b58fdf6d",
   "outputs": [],
   "execution_count": null
  }
 ],
 "metadata": {
  "kernelspec": {
   "display_name": "Python 3",
   "language": "python",
   "name": "python3"
  },
  "language_info": {
   "codemirror_mode": {
    "name": "ipython",
    "version": 2
   },
   "file_extension": ".py",
   "mimetype": "text/x-python",
   "name": "python",
   "nbconvert_exporter": "python",
   "pygments_lexer": "ipython2",
   "version": "2.7.6"
  }
 },
 "nbformat": 4,
 "nbformat_minor": 5
}
